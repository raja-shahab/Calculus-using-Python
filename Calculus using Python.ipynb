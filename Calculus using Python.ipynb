{
 "cells": [
  {
   "cell_type": "markdown",
   "id": "96cd4fdb-0c82-474e-8e6f-01837cc22cfb",
   "metadata": {},
   "source": [
    "# Functions"
   ]
  },
  {
   "cell_type": "code",
   "execution_count": 61,
   "id": "661e138b-ccfe-47ab-9db4-30dbc2f07225",
   "metadata": {},
   "outputs": [
    {
     "name": "stdout",
     "output_type": "stream",
     "text": [
      "f(3) = 9\n"
     ]
    }
   ],
   "source": [
    "import sympy as sp\n",
    "\n",
    "# Define the variable\n",
    "x = sp.Symbol('x')\n",
    "\n",
    "# Define the function\n",
    "f = x**2\n",
    "\n",
    "# Function to evaluate f(x) for a given value of x\n",
    "def evaluate_function(func, value):\n",
    "    return func.subs(x, value)\n",
    "\n",
    "# Example usage\n",
    "value = 3\n",
    "result = evaluate_function(f, value)\n",
    "print(f\"f({value}) = {result}\")"
   ]
  },
  {
   "cell_type": "code",
   "execution_count": 62,
   "id": "ef5d19b4-f138-471e-a145-8cfb3677ec31",
   "metadata": {},
   "outputs": [],
   "source": [
    "# f(x) x**2 + 3*x - 7\n",
    "def f(x):\n",
    "    return x**2+3*x-7"
   ]
  },
  {
   "cell_type": "markdown",
   "id": "e4f2761b-a61a-43bc-a046-d8d05f783afc",
   "metadata": {},
   "source": [
    "# Derivatives"
   ]
  },
  {
   "cell_type": "code",
   "execution_count": 22,
   "id": "76cf8f51-b6f5-426c-bec6-926b667f29af",
   "metadata": {},
   "outputs": [
    {
     "name": "stdout",
     "output_type": "stream",
     "text": [
      "2*x + 4*exp(4*x) + cos(x)\n"
     ]
    }
   ],
   "source": [
    "# sympy.diff(function, variable, order)\n",
    "\n",
    "from sympy import *\n",
    "\n",
    "x = Symbol(\"x\")\n",
    "function = sin(x) + x**2 + exp(4*x)\n",
    "\n",
    "derivative = diff(function, x)\n",
    "print(derivative)"
   ]
  },
  {
   "cell_type": "code",
   "execution_count": 23,
   "id": "d400ac57-5012-4e3b-82bf-64200893b472",
   "metadata": {},
   "outputs": [
    {
     "name": "stdout",
     "output_type": "stream",
     "text": [
      "16*exp(4*x) - sin(x) + 2\n"
     ]
    }
   ],
   "source": [
    "second_derivative = diff(function, x, 2)\n",
    "print(second_derivative)"
   ]
  },
  {
   "cell_type": "code",
   "execution_count": 25,
   "id": "4bd5d70a-e43b-4a84-9406-88b51fdccdf4",
   "metadata": {},
   "outputs": [
    {
     "name": "stdout",
     "output_type": "stream",
     "text": [
      "3*y**2 - sin(y) + 4\n"
     ]
    }
   ],
   "source": [
    "# f(y) = cos(y) + 4y + y3\n",
    "\n",
    "y = Symbol(\"y\")\n",
    "\n",
    "expr = cos(y) + 4*y + y**3\n",
    "\n",
    "print(diff(expr, y))"
   ]
  },
  {
   "cell_type": "code",
   "execution_count": 29,
   "id": "a1513f83-2446-43da-8066-f1dd9986f07a",
   "metadata": {},
   "outputs": [
    {
     "name": "stdout",
     "output_type": "stream",
     "text": [
      "First derivative wrt x 3*x**2*y\n",
      "First derivative wrt y x**3 + 3*y**2\n",
      "\n",
      "Second derivative wrt x 6*x*y\n",
      "Second derivative wrt y 6*x*y\n"
     ]
    }
   ],
   "source": [
    "import sympy as sym\n",
    "\n",
    "x, y, z = sym.symbols('x y z')\n",
    "\n",
    "exp = x**3 * y + y**3 + z\n",
    "\n",
    "print(\"First derivative wrt x\", diff(exp, x))\n",
    "print(\"First derivative wrt y\", diff(exp, y))\n",
    "print()\n",
    "print(\"Second derivative wrt x\", diff(exp, x, 2))\n",
    "print(\"Second derivative wrt y\", diff(exp, x, 2))"
   ]
  },
  {
   "cell_type": "markdown",
   "id": "d97f19f0-f519-4e28-97ca-80d89c6e04fd",
   "metadata": {},
   "source": [
    "# Integration in Python"
   ]
  },
  {
   "cell_type": "code",
   "execution_count": 34,
   "id": "17d6f2ee-e90f-46c5-96e7-1e8a70383422",
   "metadata": {},
   "outputs": [],
   "source": [
    "# can also use scipy.integrate.quad"
   ]
  },
  {
   "cell_type": "code",
   "execution_count": 38,
   "id": "34e72cb3-10ee-469d-8ebc-494d50e7bc3b",
   "metadata": {},
   "outputs": [
    {
     "name": "stdout",
     "output_type": "stream",
     "text": [
      "x*(y**3 + y + 4)\n"
     ]
    }
   ],
   "source": [
    "from sympy import *\n",
    "\n",
    "x ,y= symbols('x y')\n",
    "\n",
    "function = y**3 +y +4\n",
    "\n",
    "print(integrate(function, x))"
   ]
  },
  {
   "cell_type": "code",
   "execution_count": 40,
   "id": "d4c34dea-577e-445b-be84-4def0738035c",
   "metadata": {},
   "outputs": [
    {
     "name": "stdout",
     "output_type": "stream",
     "text": [
      "indefinite integral of cos(x):  sin(x)\n"
     ]
    }
   ],
   "source": [
    "import sympy as sym\n",
    "\n",
    "integral1 = sym.integrate(sym.cos(x), x)\n",
    "print('indefinite integral of cos(x): ', integral1)"
   ]
  },
  {
   "cell_type": "code",
   "execution_count": 42,
   "id": "8d2fcb6b-de35-4caa-b1a6-14959d9842dd",
   "metadata": {},
   "outputs": [
    {
     "name": "stdout",
     "output_type": "stream",
     "text": [
      "definite integral of cos(x) between -1 to 1:  2*sin(1)\n"
     ]
    }
   ],
   "source": [
    "# definite integration of cos(x) w.r.t. dx between -1 to 1\n",
    "integral2 = sym.integrate(sym.cos(x), (x, -1, 1))\n",
    "print('definite integral of cos(x) between -1 to 1: ', integral2)"
   ]
  },
  {
   "cell_type": "code",
   "execution_count": 44,
   "id": "a539f8ec-332c-444c-a7e4-bba6b1f70a60",
   "metadata": {},
   "outputs": [
    {
     "name": "stdout",
     "output_type": "stream",
     "text": [
      "definite integral of exp(-x) between 0 to ∞:  1\n"
     ]
    }
   ],
   "source": [
    "# definite integration w.r.t. dx between 0 to ∞\n",
    "integral3 = sym.integrate(sym.exp(-x), (x, 0, sym.oo))\n",
    "print('definite integral of exp(-x) between 0 to ∞: ', integral3)"
   ]
  },
  {
   "cell_type": "markdown",
   "id": "013ad326-a506-45b5-bc64-3614a8acc86a",
   "metadata": {},
   "source": [
    "# Limits in Python"
   ]
  },
  {
   "cell_type": "code",
   "execution_count": null,
   "id": "39a6cf19-5c83-4676-bf7b-852ddb2b5d1c",
   "metadata": {},
   "outputs": [],
   "source": [
    "# sympy.limit(function,variable,value)"
   ]
  },
  {
   "cell_type": "code",
   "execution_count": 45,
   "id": "0b551154-c6d1-4aa1-8654-2985ff8c40cc",
   "metadata": {},
   "outputs": [
    {
     "name": "stdout",
     "output_type": "stream",
     "text": [
      "oo\n",
      "1\n",
      "1/2\n"
     ]
    }
   ],
   "source": [
    "from sympy import *\n",
    "\n",
    "x = symbols(\"x\")\n",
    "\n",
    "expr = 1/x\n",
    "\n",
    "print(limit(expr, x, 0))\n",
    "\n",
    "print(limit(expr, x, 1, \"+\"))\n",
    "print(limit(expr, x, 2, \"-\"))"
   ]
  },
  {
   "cell_type": "code",
   "execution_count": 46,
   "id": "dc131ee0-b229-4c9f-b9ca-7c82d1a927d0",
   "metadata": {},
   "outputs": [
    {
     "name": "stdout",
     "output_type": "stream",
     "text": [
      "Limit approaches to Infinity:  1\n",
      "Limit approaches to Neg Infinity:  -1\n"
     ]
    }
   ],
   "source": [
    "import numpy as np\n",
    "\n",
    "x = symbols('x')\n",
    "num = (5**x) + (5**(-x))\n",
    "den = (5**x) - (5**(-x))\n",
    "\n",
    "function = num/den\n",
    "\n",
    "print(\"Limit approaches to Infinity: \", limit(function, x, np.inf))\n",
    "print(\"Limit approaches to Neg Infinity: \", limit(function, x, -oo))"
   ]
  },
  {
   "cell_type": "code",
   "execution_count": 16,
   "id": "1bcd108a-4e56-491e-a518-ac4abde510a1",
   "metadata": {},
   "outputs": [
    {
     "name": "stdout",
     "output_type": "stream",
     "text": [
      "39\n"
     ]
    }
   ],
   "source": [
    "x = symbols(\"x\")\n",
    "\n",
    "expr = 2*x**2 - 3*x + 4\n",
    "\n",
    "pprint(limit(expr , x, 5))"
   ]
  },
  {
   "cell_type": "code",
   "execution_count": 47,
   "id": "07789344-6423-49c3-8ee2-07a5041506b0",
   "metadata": {},
   "outputs": [
    {
     "name": "stdout",
     "output_type": "stream",
     "text": [
      "1\n"
     ]
    }
   ],
   "source": [
    "limit = sym.limit(sym.sin(x)/x, x, 0)\n",
    "print(limit)"
   ]
  },
  {
   "cell_type": "markdown",
   "id": "7f8313a8-6ca2-41b7-9187-64d0b70a4ada",
   "metadata": {},
   "source": [
    "# Series Expansion"
   ]
  },
  {
   "cell_type": "code",
   "execution_count": 55,
   "id": "5a791a6a-2b2a-4d46-93fc-cdb6d39d0eb9",
   "metadata": {},
   "outputs": [],
   "source": [
    "# series expansion\n",
    "# series(Function , Variable , Point of Expansion, Order )"
   ]
  },
  {
   "cell_type": "code",
   "execution_count": 50,
   "id": "eb21ac5a-42fc-42e9-9676-883487316363",
   "metadata": {},
   "outputs": [
    {
     "name": "stdout",
     "output_type": "stream",
     "text": [
      "     2    4        \n",
      "    x    x     ⎛ 6⎞\n",
      "1 - ── + ── + O⎝x ⎠\n",
      "    2    24        \n"
     ]
    }
   ],
   "source": [
    "series = sym.series(sym.cos(x), x)\n",
    "pprint(series)"
   ]
  },
  {
   "cell_type": "code",
   "execution_count": 52,
   "id": "294acdda-399b-4283-af8d-e9f54a97b3e5",
   "metadata": {},
   "outputs": [
    {
     "name": "stdout",
     "output_type": "stream",
     "text": [
      "     2        \n",
      "    x     ⎛ 4⎞\n",
      "1 + ── + O⎝x ⎠\n",
      "    2         \n"
     ]
    }
   ],
   "source": [
    "series2 = sym.series(1/sym.cos(x), x, 0, 4)\n",
    "pprint(series2)"
   ]
  },
  {
   "cell_type": "code",
   "execution_count": 53,
   "id": "dfe76e69-4aa3-4aa2-be4a-6b10825c3998",
   "metadata": {},
   "outputs": [],
   "source": [
    "# Maclaurin Series Expansion\n",
    "# A Maclaurin series is a special case of the Taylor series centered at ( x = 0 ). \n",
    "# It approximates a function as a sum of its derivatives at zero"
   ]
  },
  {
   "cell_type": "code",
   "execution_count": 54,
   "id": "32d1f8c6-ab63-4389-8565-3b38ab1608ad",
   "metadata": {},
   "outputs": [
    {
     "name": "stdout",
     "output_type": "stream",
     "text": [
      "1 + x + x**2/2 + x**3/6 + x**4/24 + O(x**5)\n"
     ]
    }
   ],
   "source": [
    "import sympy as sp\n",
    "\n",
    "x = sp.Symbol('x')\n",
    "f = sp.exp(x)\n",
    "\n",
    "# Up to the 5th term\n",
    "maclaurin_series = sp.series(f, x, 0, 5)\n",
    "print(maclaurin_series)"
   ]
  },
  {
   "cell_type": "code",
   "execution_count": 57,
   "id": "ba379711-6917-494c-bafa-ce946891aad9",
   "metadata": {},
   "outputs": [],
   "source": [
    "# Taylor Series Expansion\n",
    "# A Taylor series approximates a function as a sum of its derivatives at a specific point ( x = a )"
   ]
  },
  {
   "cell_type": "code",
   "execution_count": 59,
   "id": "77efb0ae-0dd4-4110-bb72-f3754931cf55",
   "metadata": {},
   "outputs": [
    {
     "name": "stdout",
     "output_type": "stream",
     "text": [
      "                            2             3             4                     \n",
      "        ⎛    π⎞      ⎛    π⎞       ⎛    π⎞       ⎛    π⎞                      \n",
      "     √2⋅⎜x - ─⎟   √2⋅⎜x - ─⎟    √2⋅⎜x - ─⎟    √2⋅⎜x - ─⎟     ⎛       5       ⎞\n",
      "√2      ⎝    4⎠      ⎝    4⎠       ⎝    4⎠       ⎝    4⎠     ⎜⎛    π⎞       π⎟\n",
      "── + ────────── - ─────────── - ─────────── + ─────────── + O⎜⎜x - ─⎟ ; x → ─⎟\n",
      "2        2             4            12            48         ⎝⎝    4⎠       4⎠\n"
     ]
    }
   ],
   "source": [
    "import sympy as sp\n",
    "\n",
    "x = sp.Symbol('x')\n",
    "f = sp.sin(x)\n",
    "\n",
    "# Compute the Taylor series expansion around x = pi/4 up to the 5th term\n",
    "taylor_series = sp.series(f, x, sp.pi/4, 5)\n",
    "pprint(taylor_series)"
   ]
  },
  {
   "cell_type": "code",
   "execution_count": null,
   "id": "eb68a7d4-3c93-446a-9789-feb87d709247",
   "metadata": {},
   "outputs": [],
   "source": []
  }
 ],
 "metadata": {
  "kernelspec": {
   "display_name": "Python 3 (ipykernel)",
   "language": "python",
   "name": "python3"
  },
  "language_info": {
   "codemirror_mode": {
    "name": "ipython",
    "version": 3
   },
   "file_extension": ".py",
   "mimetype": "text/x-python",
   "name": "python",
   "nbconvert_exporter": "python",
   "pygments_lexer": "ipython3",
   "version": "3.12.3"
  }
 },
 "nbformat": 4,
 "nbformat_minor": 5
}
